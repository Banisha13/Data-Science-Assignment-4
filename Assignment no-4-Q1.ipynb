{
 "cells": [
  {
   "cell_type": "markdown",
   "id": "dfdbe393",
   "metadata": {},
   "source": [
    "# Assignment No-4\n"
   ]
  },
  {
   "cell_type": "markdown",
   "id": "e12f17ea",
   "metadata": {},
   "source": [
    "## Question No-1"
   ]
  },
  {
   "cell_type": "markdown",
   "id": "3187d57e",
   "metadata": {},
   "source": [
    "### Problem Statement - Delivery_time -> Predict delivery time using sorting time \n"
   ]
  },
  {
   "cell_type": "code",
   "execution_count": 1,
   "id": "232afabd",
   "metadata": {},
   "outputs": [],
   "source": [
    "# importing the required packages & libraries\n",
    "import numpy as np\n",
    "import pandas as pd\n",
    "import matplotlib.pyplot as plt\n",
    "import statsmodels.api as sm\n",
    "from numpy.polynomial.polynomial import polyfit\n",
    "from sklearn.linear_model import LinearRegression"
   ]
  },
  {
   "cell_type": "code",
   "execution_count": 2,
   "id": "5144c13f",
   "metadata": {},
   "outputs": [],
   "source": [
    "# reading & attaching the data set\n",
    "data_delivery = pd.read_csv(\"delivery_time.csv\")"
   ]
  },
  {
   "cell_type": "code",
   "execution_count": 4,
   "id": "127678f5",
   "metadata": {},
   "outputs": [
    {
     "data": {
      "text/html": [
       "<div>\n",
       "<style scoped>\n",
       "    .dataframe tbody tr th:only-of-type {\n",
       "        vertical-align: middle;\n",
       "    }\n",
       "\n",
       "    .dataframe tbody tr th {\n",
       "        vertical-align: top;\n",
       "    }\n",
       "\n",
       "    .dataframe thead th {\n",
       "        text-align: right;\n",
       "    }\n",
       "</style>\n",
       "<table border=\"1\" class=\"dataframe\">\n",
       "  <thead>\n",
       "    <tr style=\"text-align: right;\">\n",
       "      <th></th>\n",
       "      <th>Delivery Time</th>\n",
       "      <th>Sorting Time</th>\n",
       "    </tr>\n",
       "  </thead>\n",
       "  <tbody>\n",
       "    <tr>\n",
       "      <th>0</th>\n",
       "      <td>21.00</td>\n",
       "      <td>10</td>\n",
       "    </tr>\n",
       "    <tr>\n",
       "      <th>1</th>\n",
       "      <td>13.50</td>\n",
       "      <td>4</td>\n",
       "    </tr>\n",
       "    <tr>\n",
       "      <th>2</th>\n",
       "      <td>19.75</td>\n",
       "      <td>6</td>\n",
       "    </tr>\n",
       "    <tr>\n",
       "      <th>3</th>\n",
       "      <td>24.00</td>\n",
       "      <td>9</td>\n",
       "    </tr>\n",
       "    <tr>\n",
       "      <th>4</th>\n",
       "      <td>29.00</td>\n",
       "      <td>10</td>\n",
       "    </tr>\n",
       "  </tbody>\n",
       "</table>\n",
       "</div>"
      ],
      "text/plain": [
       "   Delivery Time  Sorting Time\n",
       "0          21.00            10\n",
       "1          13.50             4\n",
       "2          19.75             6\n",
       "3          24.00             9\n",
       "4          29.00            10"
      ]
     },
     "execution_count": 4,
     "metadata": {},
     "output_type": "execute_result"
    }
   ],
   "source": [
    "data_delivery.head()"
   ]
  },
  {
   "cell_type": "markdown",
   "id": "77c48eb0",
   "metadata": {},
   "source": [
    "#### therefore, the given data set is having 2 variables namely Delivery Time & Sorting Time"
   ]
  },
  {
   "cell_type": "code",
   "execution_count": 5,
   "id": "ce41abe0",
   "metadata": {},
   "outputs": [
    {
     "name": "stdout",
     "output_type": "stream",
     "text": [
      "<class 'pandas.core.frame.DataFrame'>\n",
      "RangeIndex: 21 entries, 0 to 20\n",
      "Data columns (total 2 columns):\n",
      " #   Column         Non-Null Count  Dtype  \n",
      "---  ------         --------------  -----  \n",
      " 0   Delivery Time  21 non-null     float64\n",
      " 1   Sorting Time   21 non-null     int64  \n",
      "dtypes: float64(1), int64(1)\n",
      "memory usage: 468.0 bytes\n"
     ]
    }
   ],
   "source": [
    "data_delivery.info()"
   ]
  },
  {
   "cell_type": "code",
   "execution_count": 8,
   "id": "760f7de9",
   "metadata": {},
   "outputs": [
    {
     "data": {
      "text/html": [
       "<div>\n",
       "<style scoped>\n",
       "    .dataframe tbody tr th:only-of-type {\n",
       "        vertical-align: middle;\n",
       "    }\n",
       "\n",
       "    .dataframe tbody tr th {\n",
       "        vertical-align: top;\n",
       "    }\n",
       "\n",
       "    .dataframe thead th {\n",
       "        text-align: right;\n",
       "    }\n",
       "</style>\n",
       "<table border=\"1\" class=\"dataframe\">\n",
       "  <thead>\n",
       "    <tr style=\"text-align: right;\">\n",
       "      <th></th>\n",
       "      <th>Delivery Time</th>\n",
       "      <th>Sorting Time</th>\n",
       "    </tr>\n",
       "  </thead>\n",
       "  <tbody>\n",
       "    <tr>\n",
       "      <th>count</th>\n",
       "      <td>21.000000</td>\n",
       "      <td>21.000000</td>\n",
       "    </tr>\n",
       "    <tr>\n",
       "      <th>mean</th>\n",
       "      <td>16.790952</td>\n",
       "      <td>6.190476</td>\n",
       "    </tr>\n",
       "    <tr>\n",
       "      <th>std</th>\n",
       "      <td>5.074901</td>\n",
       "      <td>2.542028</td>\n",
       "    </tr>\n",
       "    <tr>\n",
       "      <th>min</th>\n",
       "      <td>8.000000</td>\n",
       "      <td>2.000000</td>\n",
       "    </tr>\n",
       "    <tr>\n",
       "      <th>25%</th>\n",
       "      <td>13.500000</td>\n",
       "      <td>4.000000</td>\n",
       "    </tr>\n",
       "    <tr>\n",
       "      <th>50%</th>\n",
       "      <td>17.830000</td>\n",
       "      <td>6.000000</td>\n",
       "    </tr>\n",
       "    <tr>\n",
       "      <th>75%</th>\n",
       "      <td>19.750000</td>\n",
       "      <td>8.000000</td>\n",
       "    </tr>\n",
       "    <tr>\n",
       "      <th>max</th>\n",
       "      <td>29.000000</td>\n",
       "      <td>10.000000</td>\n",
       "    </tr>\n",
       "  </tbody>\n",
       "</table>\n",
       "</div>"
      ],
      "text/plain": [
       "       Delivery Time  Sorting Time\n",
       "count      21.000000     21.000000\n",
       "mean       16.790952      6.190476\n",
       "std         5.074901      2.542028\n",
       "min         8.000000      2.000000\n",
       "25%        13.500000      4.000000\n",
       "50%        17.830000      6.000000\n",
       "75%        19.750000      8.000000\n",
       "max        29.000000     10.000000"
      ]
     },
     "execution_count": 8,
     "metadata": {},
     "output_type": "execute_result"
    }
   ],
   "source": [
    "data_delivery.describe()"
   ]
  },
  {
   "cell_type": "markdown",
   "id": "b8437432",
   "metadata": {},
   "source": [
    "### the above result explains that the standard deviation of Delivery time is higher than the Sorting time\n",
    "### Average Delivery Time is 16.79 & average Sorting Time is 6.19"
   ]
  },
  {
   "cell_type": "code",
   "execution_count": 10,
   "id": "e9364bdd",
   "metadata": {},
   "outputs": [
    {
     "data": {
      "text/plain": [
       "0"
      ]
     },
     "execution_count": 10,
     "metadata": {},
     "output_type": "execute_result"
    }
   ],
   "source": [
    "data_delivery['Delivery Time'].isnull().sum()\n"
   ]
  },
  {
   "cell_type": "code",
   "execution_count": 11,
   "id": "fb2392ac",
   "metadata": {},
   "outputs": [
    {
     "data": {
      "text/plain": [
       "0"
      ]
     },
     "execution_count": 11,
     "metadata": {},
     "output_type": "execute_result"
    }
   ],
   "source": [
    "data_delivery['Sorting Time'].isnull().sum()"
   ]
  },
  {
   "cell_type": "markdown",
   "id": "c36d257e",
   "metadata": {},
   "source": [
    "#### Hence there is no NA in the given data set"
   ]
  },
  {
   "cell_type": "markdown",
   "id": "bf3675a0",
   "metadata": {},
   "source": [
    "## Scatter Plot to understand about the data"
   ]
  },
  {
   "cell_type": "code",
   "execution_count": 12,
   "id": "b12d2e60",
   "metadata": {},
   "outputs": [
    {
     "data": {
      "text/plain": [
       "<seaborn.axisgrid.PairGrid at 0x2f23da39e90>"
      ]
     },
     "execution_count": 12,
     "metadata": {},
     "output_type": "execute_result"
    },
    {
     "data": {
      "image/png": "[encoded data removed]",
      "text/plain": [
       "<Figure size 640x480 with 4 Axes>"
      ]
     },
     "metadata": {},
     "output_type": "display_data"
    },
    {
     "data": {
      "image/png": "[encoded data removed]",
      "text/plain": [
       "<Figure size 500x500 with 6 Axes>"
      ]
     },
     "metadata": {},
     "output_type": "display_data"
    }
   ],
   "source": [
    "# Seaborn visualization library\n",
    "import seaborn as sns\n",
    "# Create the default pairplot\n",
    "pd.plotting.scatter_matrix(data_delivery)\n",
    "sns.pairplot(data_delivery)\n"
   ]
  },
  {
   "cell_type": "code",
   "execution_count": 20,
   "id": "31113132",
   "metadata": {},
   "outputs": [
    {
     "data": {
      "text/plain": [
       "<matplotlib.collections.PathCollection at 0x2f23e5768d0>"
      ]
     },
     "execution_count": 20,
     "metadata": {},
     "output_type": "execute_result"
    },
    {
     "data": {
      "image/png": "[encoded data removed]",
      "text/plain": [
       "<Figure size 640x480 with 1 Axes>"
      ]
     },
     "metadata": {},
     "output_type": "display_data"
    }
   ],
   "source": [
    "#matplotlib inline\n",
    "plt.xlabel('Sorting Time')\n",
    "plt.ylabel('Delivery Time')\n",
    "plt.scatter(data_delivery['Sorting Time'],data_delivery['Delivery Time'],color='red',marker='+')"
   ]
  },
  {
   "cell_type": "markdown",
   "id": "8ce84f23",
   "metadata": {},
   "source": [
    "#### the above plot reflects that the Delivery Time & Sorting Time are positively related with some outliers"
   ]
  },
  {
   "cell_type": "markdown",
   "id": "70f6025d",
   "metadata": {},
   "source": [
    "# Correlation"
   ]
  },
  {
   "cell_type": "code",
   "execution_count": 16,
   "id": "0f820513",
   "metadata": {},
   "outputs": [
    {
     "data": {
      "text/html": [
       "<div>\n",
       "<style scoped>\n",
       "    .dataframe tbody tr th:only-of-type {\n",
       "        vertical-align: middle;\n",
       "    }\n",
       "\n",
       "    .dataframe tbody tr th {\n",
       "        vertical-align: top;\n",
       "    }\n",
       "\n",
       "    .dataframe thead th {\n",
       "        text-align: right;\n",
       "    }\n",
       "</style>\n",
       "<table border=\"1\" class=\"dataframe\">\n",
       "  <thead>\n",
       "    <tr style=\"text-align: right;\">\n",
       "      <th></th>\n",
       "      <th>Delivery Time</th>\n",
       "      <th>Sorting Time</th>\n",
       "    </tr>\n",
       "  </thead>\n",
       "  <tbody>\n",
       "    <tr>\n",
       "      <th>Delivery Time</th>\n",
       "      <td>1.000000</td>\n",
       "      <td>0.825997</td>\n",
       "    </tr>\n",
       "    <tr>\n",
       "      <th>Sorting Time</th>\n",
       "      <td>0.825997</td>\n",
       "      <td>1.000000</td>\n",
       "    </tr>\n",
       "  </tbody>\n",
       "</table>\n",
       "</div>"
      ],
      "text/plain": [
       "               Delivery Time  Sorting Time\n",
       "Delivery Time       1.000000      0.825997\n",
       "Sorting Time        0.825997      1.000000"
      ]
     },
     "execution_count": 16,
     "metadata": {},
     "output_type": "execute_result"
    }
   ],
   "source": [
    "data_delivery.corr()"
   ]
  },
  {
   "cell_type": "markdown",
   "id": "3c038853",
   "metadata": {},
   "source": [
    "### The above result indicated that the correlation between the 2 variables, i.e., the Delivery Time & Sorting Time is very strong with approx 82.2%"
   ]
  },
  {
   "cell_type": "markdown",
   "id": "e170335a",
   "metadata": {},
   "source": [
    "# Regression Models"
   ]
  },
  {
   "cell_type": "markdown",
   "id": "41a9c597",
   "metadata": {},
   "source": [
    "### Model No-1: undertaking regression model with no transformation of the given data"
   ]
  },
  {
   "cell_type": "code",
   "execution_count": 17,
   "id": "ae4f217b",
   "metadata": {},
   "outputs": [],
   "source": [
    "x = data_delivery['Sorting Time'] #independent Variable \n",
    "y = data_delivery['Delivery Time'] # dependent variable"
   ]
  },
  {
   "cell_type": "code",
   "execution_count": 18,
   "id": "4228345d",
   "metadata": {},
   "outputs": [],
   "source": [
    "model1 = sm.OLS(y,x).fit()"
   ]
  },
  {
   "cell_type": "code",
   "execution_count": 19,
   "id": "629b8d05",
   "metadata": {},
   "outputs": [
    {
     "data": {
      "text/html": [
       "<table class=\"simpletable\">\n",
       "<caption>OLS Regression Results</caption>\n",
       "<tr>\n",
       "  <th>Dep. Variable:</th>      <td>Delivery Time</td>  <th>  R-squared (uncentered):</th>      <td>   0.955</td>\n",
       "</tr>\n",
       "<tr>\n",
       "  <th>Model:</th>                   <td>OLS</td>       <th>  Adj. R-squared (uncentered):</th> <td>   0.953</td>\n",
       "</tr>\n",
       "<tr>\n",
       "  <th>Method:</th>             <td>Least Squares</td>  <th>  F-statistic:       </th>          <td>   424.5</td>\n",
       "</tr>\n",
       "<tr>\n",
       "  <th>Date:</th>             <td>Mon, 06 Nov 2023</td> <th>  Prob (F-statistic):</th>          <td>6.12e-15</td>\n",
       "</tr>\n",
       "<tr>\n",
       "  <th>Time:</th>                 <td>20:42:43</td>     <th>  Log-Likelihood:    </th>          <td> -57.349</td>\n",
       "</tr>\n",
       "<tr>\n",
       "  <th>No. Observations:</th>      <td>    21</td>      <th>  AIC:               </th>          <td>   116.7</td>\n",
       "</tr>\n",
       "<tr>\n",
       "  <th>Df Residuals:</th>          <td>    20</td>      <th>  BIC:               </th>          <td>   117.7</td>\n",
       "</tr>\n",
       "<tr>\n",
       "  <th>Df Model:</th>              <td>     1</td>      <th>                     </th>              <td> </td>   \n",
       "</tr>\n",
       "<tr>\n",
       "  <th>Covariance Type:</th>      <td>nonrobust</td>    <th>                     </th>              <td> </td>   \n",
       "</tr>\n",
       "</table>\n",
       "<table class=\"simpletable\">\n",
       "<tr>\n",
       "        <td></td>          <th>coef</th>     <th>std err</th>      <th>t</th>      <th>P>|t|</th>  <th>[0.025</th>    <th>0.975]</th>  \n",
       "</tr>\n",
       "<tr>\n",
       "  <th>Sorting Time</th> <td>    2.5652</td> <td>    0.125</td> <td>   20.603</td> <td> 0.000</td> <td>    2.306</td> <td>    2.825</td>\n",
       "</tr>\n",
       "</table>\n",
       "<table class=\"simpletable\">\n",
       "<tr>\n",
       "  <th>Omnibus:</th>       <td> 1.504</td> <th>  Durbin-Watson:     </th> <td>   1.305</td>\n",
       "</tr>\n",
       "<tr>\n",
       "  <th>Prob(Omnibus):</th> <td> 0.471</td> <th>  Jarque-Bera (JB):  </th> <td>   0.508</td>\n",
       "</tr>\n",
       "<tr>\n",
       "  <th>Skew:</th>          <td>-0.348</td> <th>  Prob(JB):          </th> <td>   0.776</td>\n",
       "</tr>\n",
       "<tr>\n",
       "  <th>Kurtosis:</th>      <td> 3.310</td> <th>  Cond. No.          </th> <td>    1.00</td>\n",
       "</tr>\n",
       "</table><br/><br/>Notes:<br/>[1] R² is computed without centering (uncentered) since the model does not contain a constant.<br/>[2] Standard Errors assume that the covariance matrix of the errors is correctly specified."
      ],
      "text/latex": [
       "\\begin{center}\n",
       "\\begin{tabular}{lclc}\n",
       "\\toprule\n",
       "\\textbf{Dep. Variable:}    &  Delivery Time   & \\textbf{  R-squared (uncentered):}      &     0.955   \\\\\n",
       "\\textbf{Model:}            &       OLS        & \\textbf{  Adj. R-squared (uncentered):} &     0.953   \\\\\n",
       "\\textbf{Method:}           &  Least Squares   & \\textbf{  F-statistic:       }          &     424.5   \\\\\n",
       "\\textbf{Date:}             & Mon, 06 Nov 2023 & \\textbf{  Prob (F-statistic):}          &  6.12e-15   \\\\\n",
       "\\textbf{Time:}             &     20:42:43     & \\textbf{  Log-Likelihood:    }          &   -57.349   \\\\\n",
       "\\textbf{No. Observations:} &          21      & \\textbf{  AIC:               }          &     116.7   \\\\\n",
       "\\textbf{Df Residuals:}     &          20      & \\textbf{  BIC:               }          &     117.7   \\\\\n",
       "\\textbf{Df Model:}         &           1      & \\textbf{                     }          &             \\\\\n",
       "\\textbf{Covariance Type:}  &    nonrobust     & \\textbf{                     }          &             \\\\\n",
       "\\bottomrule\n",
       "\\end{tabular}\n",
       "\\begin{tabular}{lcccccc}\n",
       "                      & \\textbf{coef} & \\textbf{std err} & \\textbf{t} & \\textbf{P$> |$t$|$} & \\textbf{[0.025} & \\textbf{0.975]}  \\\\\n",
       "\\midrule\n",
       "\\textbf{Sorting Time} &       2.5652  &        0.125     &    20.603  &         0.000        &        2.306    &        2.825     \\\\\n",
       "\\bottomrule\n",
       "\\end{tabular}\n",
       "\\begin{tabular}{lclc}\n",
       "\\textbf{Omnibus:}       &  1.504 & \\textbf{  Durbin-Watson:     } &    1.305  \\\\\n",
       "\\textbf{Prob(Omnibus):} &  0.471 & \\textbf{  Jarque-Bera (JB):  } &    0.508  \\\\\n",
       "\\textbf{Skew:}          & -0.348 & \\textbf{  Prob(JB):          } &    0.776  \\\\\n",
       "\\textbf{Kurtosis:}      &  3.310 & \\textbf{  Cond. No.          } &     1.00  \\\\\n",
       "\\bottomrule\n",
       "\\end{tabular}\n",
       "%\\caption{OLS Regression Results}\n",
       "\\end{center}\n",
       "\n",
       "Notes: \\newline\n",
       " [1] R² is computed without centering (uncentered) since the model does not contain a constant. \\newline\n",
       " [2] Standard Errors assume that the covariance matrix of the errors is correctly specified."
      ],
      "text/plain": [
       "<class 'statsmodels.iolib.summary.Summary'>\n",
       "\"\"\"\n",
       "                                 OLS Regression Results                                \n",
       "=======================================================================================\n",
       "Dep. Variable:          Delivery Time   R-squared (uncentered):                   0.955\n",
       "Model:                            OLS   Adj. R-squared (uncentered):              0.953\n",
       "Method:                 Least Squares   F-statistic:                              424.5\n",
       "Date:                Mon, 06 Nov 2023   Prob (F-statistic):                    6.12e-15\n",
       "Time:                        20:42:43   Log-Likelihood:                         -57.349\n",
       "No. Observations:                  21   AIC:                                      116.7\n",
       "Df Residuals:                      20   BIC:                                      117.7\n",
       "Df Model:                           1                                                  \n",
       "Covariance Type:            nonrobust                                                  \n",
       "================================================================================\n",
       "                   coef    std err          t      P>|t|      [0.025      0.975]\n",
       "--------------------------------------------------------------------------------\n",
       "Sorting Time     2.5652      0.125     20.603      0.000       2.306       2.825\n",
       "==============================================================================\n",
       "Omnibus:                        1.504   Durbin-Watson:                   1.305\n",
       "Prob(Omnibus):                  0.471   Jarque-Bera (JB):                0.508\n",
       "Skew:                          -0.348   Prob(JB):                        0.776\n",
       "Kurtosis:                       3.310   Cond. No.                         1.00\n",
       "==============================================================================\n",
       "\n",
       "Notes:\n",
       "[1] R² is computed without centering (uncentered) since the model does not contain a constant.\n",
       "[2] Standard Errors assume that the covariance matrix of the errors is correctly specified.\n",
       "\"\"\""
      ]
     },
     "execution_count": 19,
     "metadata": {},
     "output_type": "execute_result"
    }
   ],
   "source": [
    "model1.summary()"
   ]
  },
  {
   "cell_type": "markdown",
   "id": "63beb843",
   "metadata": {},
   "source": [
    "#### The above result of the regression model 1 has R square with 95% and Adjusted R square with 95% which is considered as good model. But we will also explore the other models and then we will choose the best model."
   ]
  },
  {
   "cell_type": "markdown",
   "id": "19977ae2",
   "metadata": {},
   "source": [
    "### Model No-2: Underataking regression model with Log Transformation of the given data"
   ]
  },
  {
   "cell_type": "code",
   "execution_count": 21,
   "id": "c0e42c59",
   "metadata": {},
   "outputs": [],
   "source": [
    "#transforming the dependent & independent variables into log form\n",
    "x_log = np.log(data_delivery['Sorting Time'])\n",
    "y_log = np.log(data_delivery['Delivery Time'])"
   ]
  },
  {
   "cell_type": "code",
   "execution_count": 23,
   "id": "789e6296",
   "metadata": {},
   "outputs": [],
   "source": [
    "model2 = sm.OLS(y_log, x_log).fit()\n",
    "predictions = model2.predict(x_log)"
   ]
  },
  {
   "cell_type": "code",
   "execution_count": 24,
   "id": "97a3071a",
   "metadata": {},
   "outputs": [
    {
     "data": {
      "text/html": [
       "<table class=\"simpletable\">\n",
       "<caption>OLS Regression Results</caption>\n",
       "<tr>\n",
       "  <th>Dep. Variable:</th>      <td>Delivery Time</td>  <th>  R-squared (uncentered):</th>      <td>   0.972</td>\n",
       "</tr>\n",
       "<tr>\n",
       "  <th>Model:</th>                   <td>OLS</td>       <th>  Adj. R-squared (uncentered):</th> <td>   0.970</td>\n",
       "</tr>\n",
       "<tr>\n",
       "  <th>Method:</th>             <td>Least Squares</td>  <th>  F-statistic:       </th>          <td>   688.7</td>\n",
       "</tr>\n",
       "<tr>\n",
       "  <th>Date:</th>             <td>Mon, 06 Nov 2023</td> <th>  Prob (F-statistic):</th>          <td>5.72e-17</td>\n",
       "</tr>\n",
       "<tr>\n",
       "  <th>Time:</th>                 <td>20:52:16</td>     <th>  Log-Likelihood:    </th>          <td> -13.899</td>\n",
       "</tr>\n",
       "<tr>\n",
       "  <th>No. Observations:</th>      <td>    21</td>      <th>  AIC:               </th>          <td>   29.80</td>\n",
       "</tr>\n",
       "<tr>\n",
       "  <th>Df Residuals:</th>          <td>    20</td>      <th>  BIC:               </th>          <td>   30.84</td>\n",
       "</tr>\n",
       "<tr>\n",
       "  <th>Df Model:</th>              <td>     1</td>      <th>                     </th>              <td> </td>   \n",
       "</tr>\n",
       "<tr>\n",
       "  <th>Covariance Type:</th>      <td>nonrobust</td>    <th>                     </th>              <td> </td>   \n",
       "</tr>\n",
       "</table>\n",
       "<table class=\"simpletable\">\n",
       "<tr>\n",
       "        <td></td>          <th>coef</th>     <th>std err</th>      <th>t</th>      <th>P>|t|</th>  <th>[0.025</th>    <th>0.975]</th>  \n",
       "</tr>\n",
       "<tr>\n",
       "  <th>Sorting Time</th> <td>    1.5396</td> <td>    0.059</td> <td>   26.244</td> <td> 0.000</td> <td>    1.417</td> <td>    1.662</td>\n",
       "</tr>\n",
       "</table>\n",
       "<table class=\"simpletable\">\n",
       "<tr>\n",
       "  <th>Omnibus:</th>       <td> 1.636</td> <th>  Durbin-Watson:     </th> <td>   1.727</td>\n",
       "</tr>\n",
       "<tr>\n",
       "  <th>Prob(Omnibus):</th> <td> 0.441</td> <th>  Jarque-Bera (JB):  </th> <td>   1.137</td>\n",
       "</tr>\n",
       "<tr>\n",
       "  <th>Skew:</th>          <td> 0.304</td> <th>  Prob(JB):          </th> <td>   0.566</td>\n",
       "</tr>\n",
       "<tr>\n",
       "  <th>Kurtosis:</th>      <td> 2.035</td> <th>  Cond. No.          </th> <td>    1.00</td>\n",
       "</tr>\n",
       "</table><br/><br/>Notes:<br/>[1] R² is computed without centering (uncentered) since the model does not contain a constant.<br/>[2] Standard Errors assume that the covariance matrix of the errors is correctly specified."
      ],
      "text/latex": [
       "\\begin{center}\n",
       "\\begin{tabular}{lclc}\n",
       "\\toprule\n",
       "\\textbf{Dep. Variable:}    &  Delivery Time   & \\textbf{  R-squared (uncentered):}      &     0.972   \\\\\n",
       "\\textbf{Model:}            &       OLS        & \\textbf{  Adj. R-squared (uncentered):} &     0.970   \\\\\n",
       "\\textbf{Method:}           &  Least Squares   & \\textbf{  F-statistic:       }          &     688.7   \\\\\n",
       "\\textbf{Date:}             & Mon, 06 Nov 2023 & \\textbf{  Prob (F-statistic):}          &  5.72e-17   \\\\\n",
       "\\textbf{Time:}             &     20:52:16     & \\textbf{  Log-Likelihood:    }          &   -13.899   \\\\\n",
       "\\textbf{No. Observations:} &          21      & \\textbf{  AIC:               }          &     29.80   \\\\\n",
       "\\textbf{Df Residuals:}     &          20      & \\textbf{  BIC:               }          &     30.84   \\\\\n",
       "\\textbf{Df Model:}         &           1      & \\textbf{                     }          &             \\\\\n",
       "\\textbf{Covariance Type:}  &    nonrobust     & \\textbf{                     }          &             \\\\\n",
       "\\bottomrule\n",
       "\\end{tabular}\n",
       "\\begin{tabular}{lcccccc}\n",
       "                      & \\textbf{coef} & \\textbf{std err} & \\textbf{t} & \\textbf{P$> |$t$|$} & \\textbf{[0.025} & \\textbf{0.975]}  \\\\\n",
       "\\midrule\n",
       "\\textbf{Sorting Time} &       1.5396  &        0.059     &    26.244  &         0.000        &        1.417    &        1.662     \\\\\n",
       "\\bottomrule\n",
       "\\end{tabular}\n",
       "\\begin{tabular}{lclc}\n",
       "\\textbf{Omnibus:}       &  1.636 & \\textbf{  Durbin-Watson:     } &    1.727  \\\\\n",
       "\\textbf{Prob(Omnibus):} &  0.441 & \\textbf{  Jarque-Bera (JB):  } &    1.137  \\\\\n",
       "\\textbf{Skew:}          &  0.304 & \\textbf{  Prob(JB):          } &    0.566  \\\\\n",
       "\\textbf{Kurtosis:}      &  2.035 & \\textbf{  Cond. No.          } &     1.00  \\\\\n",
       "\\bottomrule\n",
       "\\end{tabular}\n",
       "%\\caption{OLS Regression Results}\n",
       "\\end{center}\n",
       "\n",
       "Notes: \\newline\n",
       " [1] R² is computed without centering (uncentered) since the model does not contain a constant. \\newline\n",
       " [2] Standard Errors assume that the covariance matrix of the errors is correctly specified."
      ],
      "text/plain": [
       "<class 'statsmodels.iolib.summary.Summary'>\n",
       "\"\"\"\n",
       "                                 OLS Regression Results                                \n",
       "=======================================================================================\n",
       "Dep. Variable:          Delivery Time   R-squared (uncentered):                   0.972\n",
       "Model:                            OLS   Adj. R-squared (uncentered):              0.970\n",
       "Method:                 Least Squares   F-statistic:                              688.7\n",
       "Date:                Mon, 06 Nov 2023   Prob (F-statistic):                    5.72e-17\n",
       "Time:                        20:52:16   Log-Likelihood:                         -13.899\n",
       "No. Observations:                  21   AIC:                                      29.80\n",
       "Df Residuals:                      20   BIC:                                      30.84\n",
       "Df Model:                           1                                                  \n",
       "Covariance Type:            nonrobust                                                  \n",
       "================================================================================\n",
       "                   coef    std err          t      P>|t|      [0.025      0.975]\n",
       "--------------------------------------------------------------------------------\n",
       "Sorting Time     1.5396      0.059     26.244      0.000       1.417       1.662\n",
       "==============================================================================\n",
       "Omnibus:                        1.636   Durbin-Watson:                   1.727\n",
       "Prob(Omnibus):                  0.441   Jarque-Bera (JB):                1.137\n",
       "Skew:                           0.304   Prob(JB):                        0.566\n",
       "Kurtosis:                       2.035   Cond. No.                         1.00\n",
       "==============================================================================\n",
       "\n",
       "Notes:\n",
       "[1] R² is computed without centering (uncentered) since the model does not contain a constant.\n",
       "[2] Standard Errors assume that the covariance matrix of the errors is correctly specified.\n",
       "\"\"\""
      ]
     },
     "execution_count": 24,
     "metadata": {},
     "output_type": "execute_result"
    }
   ],
   "source": [
    "model2.summary()"
   ]
  },
  {
   "cell_type": "markdown",
   "id": "d01ed663",
   "metadata": {},
   "source": [
    "#### The above result of the regression model 2 has R square with 97% and Adjusted R square with 97% which is better than the previous model no -1. "
   ]
  },
  {
   "cell_type": "markdown",
   "id": "46d33791",
   "metadata": {},
   "source": [
    "### Model No-3: Square Root Transformation of X & Y"
   ]
  },
  {
   "cell_type": "code",
   "execution_count": 25,
   "id": "968ae8a5",
   "metadata": {},
   "outputs": [],
   "source": [
    "#Transforming the dependent & independent variables into square root\n",
    "\n",
    "x_sqrt = np.sqrt(data_delivery['Sorting Time'])\n",
    "y_sqrt = np.sqrt(data_delivery['Delivery Time'])"
   ]
  },
  {
   "cell_type": "code",
   "execution_count": 27,
   "id": "35320713",
   "metadata": {},
   "outputs": [],
   "source": [
    "model3 = sm.OLS(y_sqrt, x_sqrt).fit()\n",
    "predictions = model3.predict(x_sqrt)"
   ]
  },
  {
   "cell_type": "code",
   "execution_count": 28,
   "id": "800092ed",
   "metadata": {},
   "outputs": [
    {
     "data": {
      "text/html": [
       "<table class=\"simpletable\">\n",
       "<caption>OLS Regression Results</caption>\n",
       "<tr>\n",
       "  <th>Dep. Variable:</th>      <td>Delivery Time</td>  <th>  R-squared (uncentered):</th>      <td>   0.987</td>\n",
       "</tr>\n",
       "<tr>\n",
       "  <th>Model:</th>                   <td>OLS</td>       <th>  Adj. R-squared (uncentered):</th> <td>   0.987</td>\n",
       "</tr>\n",
       "<tr>\n",
       "  <th>Method:</th>             <td>Least Squares</td>  <th>  F-statistic:       </th>          <td>   1542.</td>\n",
       "</tr>\n",
       "<tr>\n",
       "  <th>Date:</th>             <td>Mon, 06 Nov 2023</td> <th>  Prob (F-statistic):</th>          <td>2.10e-20</td>\n",
       "</tr>\n",
       "<tr>\n",
       "  <th>Time:</th>                 <td>21:02:17</td>     <th>  Log-Likelihood:    </th>          <td> -13.658</td>\n",
       "</tr>\n",
       "<tr>\n",
       "  <th>No. Observations:</th>      <td>    21</td>      <th>  AIC:               </th>          <td>   29.32</td>\n",
       "</tr>\n",
       "<tr>\n",
       "  <th>Df Residuals:</th>          <td>    20</td>      <th>  BIC:               </th>          <td>   30.36</td>\n",
       "</tr>\n",
       "<tr>\n",
       "  <th>Df Model:</th>              <td>     1</td>      <th>                     </th>              <td> </td>   \n",
       "</tr>\n",
       "<tr>\n",
       "  <th>Covariance Type:</th>      <td>nonrobust</td>    <th>                     </th>              <td> </td>   \n",
       "</tr>\n",
       "</table>\n",
       "<table class=\"simpletable\">\n",
       "<tr>\n",
       "        <td></td>          <th>coef</th>     <th>std err</th>      <th>t</th>      <th>P>|t|</th>  <th>[0.025</th>    <th>0.975]</th>  \n",
       "</tr>\n",
       "<tr>\n",
       "  <th>Sorting Time</th> <td>    1.6364</td> <td>    0.042</td> <td>   39.267</td> <td> 0.000</td> <td>    1.549</td> <td>    1.723</td>\n",
       "</tr>\n",
       "</table>\n",
       "<table class=\"simpletable\">\n",
       "<tr>\n",
       "  <th>Omnibus:</th>       <td> 0.176</td> <th>  Durbin-Watson:     </th> <td>   1.461</td>\n",
       "</tr>\n",
       "<tr>\n",
       "  <th>Prob(Omnibus):</th> <td> 0.916</td> <th>  Jarque-Bera (JB):  </th> <td>   0.231</td>\n",
       "</tr>\n",
       "<tr>\n",
       "  <th>Skew:</th>          <td>-0.179</td> <th>  Prob(JB):          </th> <td>   0.891</td>\n",
       "</tr>\n",
       "<tr>\n",
       "  <th>Kurtosis:</th>      <td> 2.632</td> <th>  Cond. No.          </th> <td>    1.00</td>\n",
       "</tr>\n",
       "</table><br/><br/>Notes:<br/>[1] R² is computed without centering (uncentered) since the model does not contain a constant.<br/>[2] Standard Errors assume that the covariance matrix of the errors is correctly specified."
      ],
      "text/latex": [
       "\\begin{center}\n",
       "\\begin{tabular}{lclc}\n",
       "\\toprule\n",
       "\\textbf{Dep. Variable:}    &  Delivery Time   & \\textbf{  R-squared (uncentered):}      &     0.987   \\\\\n",
       "\\textbf{Model:}            &       OLS        & \\textbf{  Adj. R-squared (uncentered):} &     0.987   \\\\\n",
       "\\textbf{Method:}           &  Least Squares   & \\textbf{  F-statistic:       }          &     1542.   \\\\\n",
       "\\textbf{Date:}             & Mon, 06 Nov 2023 & \\textbf{  Prob (F-statistic):}          &  2.10e-20   \\\\\n",
       "\\textbf{Time:}             &     21:02:17     & \\textbf{  Log-Likelihood:    }          &   -13.658   \\\\\n",
       "\\textbf{No. Observations:} &          21      & \\textbf{  AIC:               }          &     29.32   \\\\\n",
       "\\textbf{Df Residuals:}     &          20      & \\textbf{  BIC:               }          &     30.36   \\\\\n",
       "\\textbf{Df Model:}         &           1      & \\textbf{                     }          &             \\\\\n",
       "\\textbf{Covariance Type:}  &    nonrobust     & \\textbf{                     }          &             \\\\\n",
       "\\bottomrule\n",
       "\\end{tabular}\n",
       "\\begin{tabular}{lcccccc}\n",
       "                      & \\textbf{coef} & \\textbf{std err} & \\textbf{t} & \\textbf{P$> |$t$|$} & \\textbf{[0.025} & \\textbf{0.975]}  \\\\\n",
       "\\midrule\n",
       "\\textbf{Sorting Time} &       1.6364  &        0.042     &    39.267  &         0.000        &        1.549    &        1.723     \\\\\n",
       "\\bottomrule\n",
       "\\end{tabular}\n",
       "\\begin{tabular}{lclc}\n",
       "\\textbf{Omnibus:}       &  0.176 & \\textbf{  Durbin-Watson:     } &    1.461  \\\\\n",
       "\\textbf{Prob(Omnibus):} &  0.916 & \\textbf{  Jarque-Bera (JB):  } &    0.231  \\\\\n",
       "\\textbf{Skew:}          & -0.179 & \\textbf{  Prob(JB):          } &    0.891  \\\\\n",
       "\\textbf{Kurtosis:}      &  2.632 & \\textbf{  Cond. No.          } &     1.00  \\\\\n",
       "\\bottomrule\n",
       "\\end{tabular}\n",
       "%\\caption{OLS Regression Results}\n",
       "\\end{center}\n",
       "\n",
       "Notes: \\newline\n",
       " [1] R² is computed without centering (uncentered) since the model does not contain a constant. \\newline\n",
       " [2] Standard Errors assume that the covariance matrix of the errors is correctly specified."
      ],
      "text/plain": [
       "<class 'statsmodels.iolib.summary.Summary'>\n",
       "\"\"\"\n",
       "                                 OLS Regression Results                                \n",
       "=======================================================================================\n",
       "Dep. Variable:          Delivery Time   R-squared (uncentered):                   0.987\n",
       "Model:                            OLS   Adj. R-squared (uncentered):              0.987\n",
       "Method:                 Least Squares   F-statistic:                              1542.\n",
       "Date:                Mon, 06 Nov 2023   Prob (F-statistic):                    2.10e-20\n",
       "Time:                        21:02:17   Log-Likelihood:                         -13.658\n",
       "No. Observations:                  21   AIC:                                      29.32\n",
       "Df Residuals:                      20   BIC:                                      30.36\n",
       "Df Model:                           1                                                  \n",
       "Covariance Type:            nonrobust                                                  \n",
       "================================================================================\n",
       "                   coef    std err          t      P>|t|      [0.025      0.975]\n",
       "--------------------------------------------------------------------------------\n",
       "Sorting Time     1.6364      0.042     39.267      0.000       1.549       1.723\n",
       "==============================================================================\n",
       "Omnibus:                        0.176   Durbin-Watson:                   1.461\n",
       "Prob(Omnibus):                  0.916   Jarque-Bera (JB):                0.231\n",
       "Skew:                          -0.179   Prob(JB):                        0.891\n",
       "Kurtosis:                       2.632   Cond. No.                         1.00\n",
       "==============================================================================\n",
       "\n",
       "Notes:\n",
       "[1] R² is computed without centering (uncentered) since the model does not contain a constant.\n",
       "[2] Standard Errors assume that the covariance matrix of the errors is correctly specified.\n",
       "\"\"\""
      ]
     },
     "execution_count": 28,
     "metadata": {},
     "output_type": "execute_result"
    }
   ],
   "source": [
    "model3.summary()"
   ]
  },
  {
   "cell_type": "markdown",
   "id": "61e994ea",
   "metadata": {},
   "source": [
    "### The above results shao model with highest R square of 98% which much better than the earlier 2 models."
   ]
  },
  {
   "cell_type": "markdown",
   "id": "707af6ac",
   "metadata": {},
   "source": [
    "# Output Interpretation"
   ]
  },
  {
   "cell_type": "markdown",
   "id": "d6130998",
   "metadata": {},
   "source": [
    "We will select Model 3 as it has the best R squared value with 98.7%\n",
    "\n",
    "1 - p-value < 0.01\n",
    "Thus the model is accepted\n",
    "\n",
    "2 - coefficient == 1.64\n",
    "Which indicates that if the value of Sorting Time is increased by 1, the predicted value of Delivery Time will increase by 1.64\n",
    "\n",
    "3 - R-sqared == 0.987\n",
    "That is the selected model explains 98.7% of the variance in dependent variable"
   ]
  },
  {
   "cell_type": "code",
   "execution_count": null,
   "id": "151d922b",
   "metadata": {},
   "outputs": [],
   "source": []
  }
 ],
 "metadata": {
  "kernelspec": {
   "display_name": "Python 3 (ipykernel)",
   "language": "python",
   "name": "python3"
  },
  "language_info": {
   "codemirror_mode": {
    "name": "ipython",
    "version": 3
   },
   "file_extension": ".py",
   "mimetype": "text/x-python",
   "name": "python",
   "nbconvert_exporter": "python",
   "pygments_lexer": "ipython3",
   "version": "3.11.4"
  }
 },
 "nbformat": 4,
 "nbformat_minor": 5
}
